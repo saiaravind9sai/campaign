{
 "cells": [
  {
   "cell_type": "code",
   "execution_count": 1,
   "metadata": {
    "_cell_guid": "b1076dfc-b9ad-4769-8c92-a6c4dae69d19",
    "_uuid": "8f2839f25d086af736a60e9eeb907d3b93b6e0e5"
   },
   "outputs": [
    {
     "name": "stdout",
     "output_type": "stream",
     "text": [
      "/kaggle/input/facebook-ad-campaign/data.csv\n"
     ]
    }
   ],
   "source": [
    "# This Python 3 environment comes with many helpful analytics libraries installed\n",
    "# It is defined by the kaggle/python Docker image: https://github.com/kaggle/docker-python\n",
    "# For example, here's several helpful packages to load\n",
    "\n",
    "import numpy as np # linear algebra\n",
    "import pandas as pd # data processing, CSV file I/O (e.g. pd.read_csv)\n",
    "\n",
    "# Input data files are available in the read-only \"../input/\" directory\n",
    "# For example, running this (by clicking run or pressing Shift+Enter) will list all files under the input directory\n",
    "\n",
    "import os\n",
    "for dirname, _, filenames in os.walk('/kaggle/input'):\n",
    "    for filename in filenames:\n",
    "        print(os.path.join(dirname, filename))\n",
    "\n",
    "# You can write up to 5GB to the current directory (/kaggle/working/) that gets preserved as output when you create a version using \"Save & Run All\" \n",
    "# You can also write temporary files to /kaggle/temp/, but they won't be saved outside of the current session"
   ]
  },
  {
   "cell_type": "markdown",
   "metadata": {
    "_cell_guid": "79c7e3d0-c299-4dcb-8224-4455121ee9b0",
    "_uuid": "d629ff2d2480ee46fbb7e2d37f6b5fab8052498a",
    "collapsed": true
   },
   "source": [
    "This is a Simple Dataset from different facebook marketing campaigns.\n",
    "\n",
    "We can identify ideal campaign metrics and parameters for efficient results\n",
    "\n",
    "STEPS INVOLVED :\n",
    "- sectional data analysis for key features \n",
    "- Identifying the best parameters of each feature for efficient ads and High ROI\n",
    "- Final suggestions for the ideal campaign"
   ]
  },
  {
   "cell_type": "code",
   "execution_count": 2,
   "metadata": {},
   "outputs": [],
   "source": [
    "import matplotlib.pyplot as plt\n",
    "import seaborn as sns"
   ]
  },
  {
   "cell_type": "markdown",
   "metadata": {},
   "source": [
    "# Data description"
   ]
  },
  {
   "cell_type": "code",
   "execution_count": 3,
   "metadata": {},
   "outputs": [],
   "source": [
    "df = pd.read_csv('F:\\\\SAI\\\\textanalytics\\\\FaceBook Ads\\\\fb ads.csv')"
   ]
  },
  {
   "cell_type": "code",
   "execution_count": 4,
   "metadata": {},
   "outputs": [
    {
     "data": {
      "text/plain": [
       "(1143, 15)"
      ]
     },
     "execution_count": 4,
     "metadata": {},
     "output_type": "execute_result"
    }
   ],
   "source": [
    "df.shape"
   ]
  },
  {
   "cell_type": "markdown",
   "metadata": {},
   "source": [
    "- There are 15 columns and 1143 rows"
   ]
  },
  {
   "cell_type": "code",
   "execution_count": 5,
   "metadata": {},
   "outputs": [
    {
     "name": "stdout",
     "output_type": "stream",
     "text": [
      "<class 'pandas.core.frame.DataFrame'>\n",
      "RangeIndex: 1143 entries, 0 to 1142\n",
      "Data columns (total 15 columns):\n",
      " #   Column               Non-Null Count  Dtype  \n",
      "---  ------               --------------  -----  \n",
      " 0   ad_id                1143 non-null   int64  \n",
      " 1   reporting_start      1143 non-null   object \n",
      " 2   reporting_end        1143 non-null   object \n",
      " 3   campaign_id          1143 non-null   object \n",
      " 4   fb_campaign_id       1143 non-null   object \n",
      " 5   age                  1143 non-null   object \n",
      " 6   gender               1143 non-null   object \n",
      " 7   interest1            1143 non-null   int64  \n",
      " 8   interest2            1143 non-null   int64  \n",
      " 9   interest3            1143 non-null   int64  \n",
      " 10  impressions          1143 non-null   float64\n",
      " 11  clicks               1143 non-null   int64  \n",
      " 12  spent                1143 non-null   float64\n",
      " 13  total_conversion     761 non-null    float64\n",
      " 14  approved_conversion  761 non-null    float64\n",
      "dtypes: float64(4), int64(5), object(6)\n",
      "memory usage: 134.1+ KB\n"
     ]
    }
   ],
   "source": [
    "df.info()"
   ]
  },
  {
   "cell_type": "markdown",
   "metadata": {},
   "source": [
    "FEATURE DESCRIPTION :\n",
    "- ad_id is the id of specific ad set | It is an numerical feature\n",
    "- Reporting_start and reporting_end are the start and end dates of the each ad\n",
    "- Campaign_id is the id assigned by the ad running company\n",
    "- fb_campaign_id is the id assigned by facebook for every ad set\n",
    "- age and gender talk about the demographics | It is a categorical feature\n",
    "- Interest1, Interest2, Interest3 are the user interests and likes of facebook users who were taregted for the ad\n",
    "- Impressiosn are the number of times the ad was shown to the users | \n",
    "- Clicks is the number of time users clicked on the ad \n",
    "- spent is the amount of money spent on each campaign \n",
    "- Totalconversions is the number of users who have clicked the ad and have made a purchase or installed an app\n",
    "- approved_conversions tells how many became actual active users "
   ]
  },
  {
   "cell_type": "code",
   "execution_count": 6,
   "metadata": {},
   "outputs": [
    {
     "name": "stdout",
     "output_type": "stream",
     "text": [
      "['ad_id', 'reporting_start', 'reporting_end', 'campaign_id', 'fb_campaign_id', 'age', 'gender', 'interest1', 'interest2', 'interest3', 'impressions', 'clicks', 'spent', 'total_conversion', 'approved_conversion']\n"
     ]
    }
   ],
   "source": [
    "print(list(df.columns))"
   ]
  },
  {
   "cell_type": "code",
   "execution_count": 7,
   "metadata": {},
   "outputs": [
    {
     "data": {
      "text/html": [
       "<div>\n",
       "<style scoped>\n",
       "    .dataframe tbody tr th:only-of-type {\n",
       "        vertical-align: middle;\n",
       "    }\n",
       "\n",
       "    .dataframe tbody tr th {\n",
       "        vertical-align: top;\n",
       "    }\n",
       "\n",
       "    .dataframe thead th {\n",
       "        text-align: right;\n",
       "    }\n",
       "</style>\n",
       "<table border=\"1\" class=\"dataframe\">\n",
       "  <thead>\n",
       "    <tr style=\"text-align: right;\">\n",
       "      <th></th>\n",
       "      <th>ad_id</th>\n",
       "      <th>reporting_start</th>\n",
       "      <th>reporting_end</th>\n",
       "      <th>campaign_id</th>\n",
       "      <th>fb_campaign_id</th>\n",
       "      <th>age</th>\n",
       "      <th>gender</th>\n",
       "      <th>interest1</th>\n",
       "      <th>interest2</th>\n",
       "      <th>interest3</th>\n",
       "      <th>impressions</th>\n",
       "      <th>clicks</th>\n",
       "      <th>spent</th>\n",
       "      <th>total_conversion</th>\n",
       "      <th>approved_conversion</th>\n",
       "    </tr>\n",
       "  </thead>\n",
       "  <tbody>\n",
       "    <tr>\n",
       "      <th>0</th>\n",
       "      <td>708746</td>\n",
       "      <td>17/08/2017</td>\n",
       "      <td>17/08/2017</td>\n",
       "      <td>916</td>\n",
       "      <td>103916</td>\n",
       "      <td>30-34</td>\n",
       "      <td>M</td>\n",
       "      <td>15</td>\n",
       "      <td>17</td>\n",
       "      <td>17</td>\n",
       "      <td>7350.0</td>\n",
       "      <td>1</td>\n",
       "      <td>1.43</td>\n",
       "      <td>2.0</td>\n",
       "      <td>1.0</td>\n",
       "    </tr>\n",
       "    <tr>\n",
       "      <th>1</th>\n",
       "      <td>708749</td>\n",
       "      <td>17/08/2017</td>\n",
       "      <td>17/08/2017</td>\n",
       "      <td>916</td>\n",
       "      <td>103917</td>\n",
       "      <td>30-34</td>\n",
       "      <td>M</td>\n",
       "      <td>16</td>\n",
       "      <td>19</td>\n",
       "      <td>21</td>\n",
       "      <td>17861.0</td>\n",
       "      <td>2</td>\n",
       "      <td>1.82</td>\n",
       "      <td>2.0</td>\n",
       "      <td>0.0</td>\n",
       "    </tr>\n",
       "    <tr>\n",
       "      <th>2</th>\n",
       "      <td>708771</td>\n",
       "      <td>17/08/2017</td>\n",
       "      <td>17/08/2017</td>\n",
       "      <td>916</td>\n",
       "      <td>103920</td>\n",
       "      <td>30-34</td>\n",
       "      <td>M</td>\n",
       "      <td>20</td>\n",
       "      <td>25</td>\n",
       "      <td>22</td>\n",
       "      <td>693.0</td>\n",
       "      <td>0</td>\n",
       "      <td>0.00</td>\n",
       "      <td>1.0</td>\n",
       "      <td>0.0</td>\n",
       "    </tr>\n",
       "    <tr>\n",
       "      <th>3</th>\n",
       "      <td>708815</td>\n",
       "      <td>30/08/2017</td>\n",
       "      <td>30/08/2017</td>\n",
       "      <td>916</td>\n",
       "      <td>103928</td>\n",
       "      <td>30-34</td>\n",
       "      <td>M</td>\n",
       "      <td>28</td>\n",
       "      <td>32</td>\n",
       "      <td>32</td>\n",
       "      <td>4259.0</td>\n",
       "      <td>1</td>\n",
       "      <td>1.25</td>\n",
       "      <td>1.0</td>\n",
       "      <td>0.0</td>\n",
       "    </tr>\n",
       "    <tr>\n",
       "      <th>4</th>\n",
       "      <td>708818</td>\n",
       "      <td>17/08/2017</td>\n",
       "      <td>17/08/2017</td>\n",
       "      <td>916</td>\n",
       "      <td>103928</td>\n",
       "      <td>30-34</td>\n",
       "      <td>M</td>\n",
       "      <td>28</td>\n",
       "      <td>33</td>\n",
       "      <td>32</td>\n",
       "      <td>4133.0</td>\n",
       "      <td>1</td>\n",
       "      <td>1.29</td>\n",
       "      <td>1.0</td>\n",
       "      <td>1.0</td>\n",
       "    </tr>\n",
       "  </tbody>\n",
       "</table>\n",
       "</div>"
      ],
      "text/plain": [
       "    ad_id reporting_start reporting_end campaign_id fb_campaign_id    age  \\\n",
       "0  708746      17/08/2017    17/08/2017         916         103916  30-34   \n",
       "1  708749      17/08/2017    17/08/2017         916         103917  30-34   \n",
       "2  708771      17/08/2017    17/08/2017         916         103920  30-34   \n",
       "3  708815      30/08/2017    30/08/2017         916         103928  30-34   \n",
       "4  708818      17/08/2017    17/08/2017         916         103928  30-34   \n",
       "\n",
       "  gender  interest1  interest2  interest3  impressions  clicks  spent  \\\n",
       "0      M         15         17         17       7350.0       1   1.43   \n",
       "1      M         16         19         21      17861.0       2   1.82   \n",
       "2      M         20         25         22        693.0       0   0.00   \n",
       "3      M         28         32         32       4259.0       1   1.25   \n",
       "4      M         28         33         32       4133.0       1   1.29   \n",
       "\n",
       "   total_conversion  approved_conversion  \n",
       "0               2.0                  1.0  \n",
       "1               2.0                  0.0  \n",
       "2               1.0                  0.0  \n",
       "3               1.0                  0.0  \n",
       "4               1.0                  1.0  "
      ]
     },
     "execution_count": 7,
     "metadata": {},
     "output_type": "execute_result"
    }
   ],
   "source": [
    "df.head()"
   ]
  },
  {
   "cell_type": "code",
   "execution_count": 8,
   "metadata": {},
   "outputs": [
    {
     "data": {
      "text/plain": [
       "ad_id                    0\n",
       "reporting_start          0\n",
       "reporting_end            0\n",
       "campaign_id              0\n",
       "fb_campaign_id           0\n",
       "age                      0\n",
       "gender                   0\n",
       "interest1                0\n",
       "interest2                0\n",
       "interest3                0\n",
       "impressions              0\n",
       "clicks                   0\n",
       "spent                    0\n",
       "total_conversion       382\n",
       "approved_conversion    382\n",
       "dtype: int64"
      ]
     },
     "execution_count": 8,
     "metadata": {},
     "output_type": "execute_result"
    }
   ],
   "source": [
    "df.isnull().sum()"
   ]
  },
  {
   "cell_type": "markdown",
   "metadata": {},
   "source": [
    "- We have 382 null values in total conversion and approved conversion\n",
    "- since total_conversion and approved_conversion are the key features for our data analysis and predictive analysis, we can remove the rows with null values in these two features. "
   ]
  },
  {
   "cell_type": "code",
   "execution_count": 9,
   "metadata": {},
   "outputs": [],
   "source": [
    "df= df.dropna()"
   ]
  },
  {
   "cell_type": "code",
   "execution_count": 10,
   "metadata": {},
   "outputs": [
    {
     "data": {
      "text/plain": [
       "(761, 15)"
      ]
     },
     "execution_count": 10,
     "metadata": {},
     "output_type": "execute_result"
    }
   ],
   "source": [
    "df.shape"
   ]
  },
  {
   "cell_type": "markdown",
   "metadata": {},
   "source": [
    "- Since ad_id and fb_campaign_id are similar type of data and either one of them is enough to perform our data analysis we can drop one of them.\n",
    "- We can drop reporting_start and reporting_end also"
   ]
  },
  {
   "cell_type": "code",
   "execution_count": 11,
   "metadata": {},
   "outputs": [],
   "source": [
    "df = df.drop(['reporting_start','reporting_end','fb_campaign_id'], axis=1)"
   ]
  },
  {
   "cell_type": "code",
   "execution_count": 12,
   "metadata": {},
   "outputs": [
    {
     "data": {
      "text/html": [
       "<div>\n",
       "<style scoped>\n",
       "    .dataframe tbody tr th:only-of-type {\n",
       "        vertical-align: middle;\n",
       "    }\n",
       "\n",
       "    .dataframe tbody tr th {\n",
       "        vertical-align: top;\n",
       "    }\n",
       "\n",
       "    .dataframe thead th {\n",
       "        text-align: right;\n",
       "    }\n",
       "</style>\n",
       "<table border=\"1\" class=\"dataframe\">\n",
       "  <thead>\n",
       "    <tr style=\"text-align: right;\">\n",
       "      <th></th>\n",
       "      <th>ad_id</th>\n",
       "      <th>campaign_id</th>\n",
       "      <th>age</th>\n",
       "      <th>gender</th>\n",
       "      <th>interest1</th>\n",
       "      <th>interest2</th>\n",
       "      <th>interest3</th>\n",
       "      <th>impressions</th>\n",
       "      <th>clicks</th>\n",
       "      <th>spent</th>\n",
       "      <th>total_conversion</th>\n",
       "      <th>approved_conversion</th>\n",
       "    </tr>\n",
       "  </thead>\n",
       "  <tbody>\n",
       "    <tr>\n",
       "      <th>0</th>\n",
       "      <td>708746</td>\n",
       "      <td>916</td>\n",
       "      <td>30-34</td>\n",
       "      <td>M</td>\n",
       "      <td>15</td>\n",
       "      <td>17</td>\n",
       "      <td>17</td>\n",
       "      <td>7350.0</td>\n",
       "      <td>1</td>\n",
       "      <td>1.43</td>\n",
       "      <td>2.0</td>\n",
       "      <td>1.0</td>\n",
       "    </tr>\n",
       "    <tr>\n",
       "      <th>1</th>\n",
       "      <td>708749</td>\n",
       "      <td>916</td>\n",
       "      <td>30-34</td>\n",
       "      <td>M</td>\n",
       "      <td>16</td>\n",
       "      <td>19</td>\n",
       "      <td>21</td>\n",
       "      <td>17861.0</td>\n",
       "      <td>2</td>\n",
       "      <td>1.82</td>\n",
       "      <td>2.0</td>\n",
       "      <td>0.0</td>\n",
       "    </tr>\n",
       "    <tr>\n",
       "      <th>2</th>\n",
       "      <td>708771</td>\n",
       "      <td>916</td>\n",
       "      <td>30-34</td>\n",
       "      <td>M</td>\n",
       "      <td>20</td>\n",
       "      <td>25</td>\n",
       "      <td>22</td>\n",
       "      <td>693.0</td>\n",
       "      <td>0</td>\n",
       "      <td>0.00</td>\n",
       "      <td>1.0</td>\n",
       "      <td>0.0</td>\n",
       "    </tr>\n",
       "    <tr>\n",
       "      <th>3</th>\n",
       "      <td>708815</td>\n",
       "      <td>916</td>\n",
       "      <td>30-34</td>\n",
       "      <td>M</td>\n",
       "      <td>28</td>\n",
       "      <td>32</td>\n",
       "      <td>32</td>\n",
       "      <td>4259.0</td>\n",
       "      <td>1</td>\n",
       "      <td>1.25</td>\n",
       "      <td>1.0</td>\n",
       "      <td>0.0</td>\n",
       "    </tr>\n",
       "    <tr>\n",
       "      <th>4</th>\n",
       "      <td>708818</td>\n",
       "      <td>916</td>\n",
       "      <td>30-34</td>\n",
       "      <td>M</td>\n",
       "      <td>28</td>\n",
       "      <td>33</td>\n",
       "      <td>32</td>\n",
       "      <td>4133.0</td>\n",
       "      <td>1</td>\n",
       "      <td>1.29</td>\n",
       "      <td>1.0</td>\n",
       "      <td>1.0</td>\n",
       "    </tr>\n",
       "  </tbody>\n",
       "</table>\n",
       "</div>"
      ],
      "text/plain": [
       "    ad_id campaign_id    age gender  interest1  interest2  interest3  \\\n",
       "0  708746         916  30-34      M         15         17         17   \n",
       "1  708749         916  30-34      M         16         19         21   \n",
       "2  708771         916  30-34      M         20         25         22   \n",
       "3  708815         916  30-34      M         28         32         32   \n",
       "4  708818         916  30-34      M         28         33         32   \n",
       "\n",
       "   impressions  clicks  spent  total_conversion  approved_conversion  \n",
       "0       7350.0       1   1.43               2.0                  1.0  \n",
       "1      17861.0       2   1.82               2.0                  0.0  \n",
       "2        693.0       0   0.00               1.0                  0.0  \n",
       "3       4259.0       1   1.25               1.0                  0.0  \n",
       "4       4133.0       1   1.29               1.0                  1.0  "
      ]
     },
     "execution_count": 12,
     "metadata": {},
     "output_type": "execute_result"
    }
   ],
   "source": [
    "df.head()"
   ]
  },
  {
   "cell_type": "markdown",
   "metadata": {},
   "source": [
    "# Preliminary data analysis"
   ]
  },
  {
   "cell_type": "code",
   "execution_count": 13,
   "metadata": {},
   "outputs": [
    {
     "data": {
      "text/plain": [
       "M    486\n",
       "F    275\n",
       "Name: gender, dtype: int64"
      ]
     },
     "execution_count": 13,
     "metadata": {},
     "output_type": "execute_result"
    }
   ],
   "source": [
    "df.gender.value_counts()"
   ]
  },
  {
   "cell_type": "code",
   "execution_count": 14,
   "metadata": {},
   "outputs": [
    {
     "data": {
      "text/plain": [
       "30-34    327\n",
       "35-39    180\n",
       "40-44    139\n",
       "45-49    115\n",
       "Name: age, dtype: int64"
      ]
     },
     "execution_count": 14,
     "metadata": {},
     "output_type": "execute_result"
    }
   ],
   "source": [
    "df.age.value_counts()"
   ]
  },
  {
   "cell_type": "code",
   "execution_count": 15,
   "metadata": {},
   "outputs": [
    {
     "data": {
      "text/plain": [
       "16    115\n",
       "10     69\n",
       "29     58\n",
       "27     44\n",
       "15     40\n",
       "20     39\n",
       "64     35\n",
       "28     34\n",
       "18     31\n",
       "26     30\n",
       "63     29\n",
       "22     23\n",
       "21     22\n",
       "32     21\n",
       "30     18\n",
       "7      18\n",
       "19     18\n",
       "36     18\n",
       "2      18\n",
       "23     16\n",
       "31     15\n",
       "24     15\n",
       "25     14\n",
       "65     13\n",
       "66      8\n",
       "Name: interest1, dtype: int64"
      ]
     },
     "execution_count": 15,
     "metadata": {},
     "output_type": "execute_result"
    }
   ],
   "source": [
    "df.interest1.value_counts()"
   ]
  },
  {
   "cell_type": "code",
   "execution_count": 16,
   "metadata": {},
   "outputs": [
    {
     "data": {
      "text/plain": [
       "32    42\n",
       "21    38\n",
       "22    32\n",
       "17    31\n",
       "33    30\n",
       "19    30\n",
       "31    30\n",
       "29    29\n",
       "16    28\n",
       "30    28\n",
       "20    27\n",
       "24    26\n",
       "18    25\n",
       "27    25\n",
       "26    24\n",
       "25    23\n",
       "23    21\n",
       "28    20\n",
       "34    20\n",
       "35    18\n",
       "13    17\n",
       "69    14\n",
       "70    14\n",
       "37    14\n",
       "67    13\n",
       "12    12\n",
       "66    12\n",
       "68    11\n",
       "11    11\n",
       "65    11\n",
       "14    10\n",
       "38    10\n",
       "15     9\n",
       "64     7\n",
       "36     7\n",
       "4      6\n",
       "9      6\n",
       "10     5\n",
       "41     4\n",
       "8      4\n",
       "7      3\n",
       "40     3\n",
       "6      2\n",
       "5      2\n",
       "3      2\n",
       "71     2\n",
       "39     1\n",
       "42     1\n",
       "72     1\n",
       "Name: interest2, dtype: int64"
      ]
     },
     "execution_count": 16,
     "metadata": {},
     "output_type": "execute_result"
    }
   ],
   "source": [
    "df.interest2.value_counts()"
   ]
  },
  {
   "cell_type": "code",
   "execution_count": 17,
   "metadata": {},
   "outputs": [
    {
     "data": {
      "text/plain": [
       "22    41\n",
       "20    39\n",
       "32    37\n",
       "21    33\n",
       "24    33\n",
       "31    32\n",
       "33    32\n",
       "17    32\n",
       "30    29\n",
       "19    28\n",
       "25    25\n",
       "28    25\n",
       "29    25\n",
       "27    23\n",
       "35    20\n",
       "34    20\n",
       "18    20\n",
       "13    19\n",
       "16    19\n",
       "23    19\n",
       "68    17\n",
       "67    16\n",
       "11    15\n",
       "26    15\n",
       "69    14\n",
       "36    13\n",
       "15    12\n",
       "70    12\n",
       "12    11\n",
       "65    11\n",
       "66     8\n",
       "14     8\n",
       "38     8\n",
       "7      7\n",
       "40     5\n",
       "37     5\n",
       "64     4\n",
       "9      4\n",
       "10     4\n",
       "5      3\n",
       "6      3\n",
       "3      3\n",
       "41     3\n",
       "71     2\n",
       "8      2\n",
       "39     2\n",
       "42     1\n",
       "4      1\n",
       "72     1\n",
       "Name: interest3, dtype: int64"
      ]
     },
     "execution_count": 17,
     "metadata": {},
     "output_type": "execute_result"
    }
   ],
   "source": [
    "df.interest3.value_counts()"
   ]
  },
  {
   "cell_type": "code",
   "execution_count": 18,
   "metadata": {},
   "outputs": [
    {
     "data": {
      "text/plain": [
       "<matplotlib.axes._subplots.AxesSubplot at 0x7f89ad4cc910>"
      ]
     },
     "execution_count": 18,
     "metadata": {},
     "output_type": "execute_result"
    },
    {
     "data": {
      "image/png": "[encoded data removed]",
      "text/plain": [
       "<Figure size 432x288 with 1 Axes>"
      ]
     },
     "metadata": {
      "needs_background": "light"
     },
     "output_type": "display_data"
    }
   ],
   "source": [
    "sns.countplot(df.age)"
   ]
  },
  {
   "cell_type": "code",
   "execution_count": 19,
   "metadata": {},
   "outputs": [
    {
     "data": {
      "text/plain": [
       "<matplotlib.axes._subplots.AxesSubplot at 0x7f89ad40d750>"
      ]
     },
     "execution_count": 19,
     "metadata": {},
     "output_type": "execute_result"
    },
    {
     "data": {
      "image/png": "[encoded data removed]",
      "text/plain": [
       "<Figure size 432x288 with 1 Axes>"
      ]
     },
     "metadata": {
      "needs_background": "light"
     },
     "output_type": "display_data"
    }
   ],
   "source": [
    "sns.countplot(df.gender)"
   ]
  },
  {
   "cell_type": "code",
   "execution_count": 20,
   "metadata": {},
   "outputs": [
    {
     "data": {
      "text/plain": [
       "<matplotlib.axes._subplots.AxesSubplot at 0x7f89ad3657d0>"
      ]
     },
     "execution_count": 20,
     "metadata": {},
     "output_type": "execute_result"
    },
    {
     "data": {
      "image/png": "[encoded data removed]",
      "text/plain": [
       "<Figure size 432x288 with 1 Axes>"
      ]
     },
     "metadata": {
      "needs_background": "light"
     },
     "output_type": "display_data"
    }
   ],
   "source": [
    "sns.distplot(df.clicks)"
   ]
  },
  {
   "cell_type": "code",
   "execution_count": 21,
   "metadata": {},
   "outputs": [
    {
     "data": {
      "text/plain": [
       "<matplotlib.axes._subplots.AxesSubplot at 0x7f89ad281b50>"
      ]
     },
     "execution_count": 21,
     "metadata": {},
     "output_type": "execute_result"
    },
    {
     "data": {
      "image/png": "[encoded data removed]",
      "text/plain": [
       "<Figure size 432x288 with 1 Axes>"
      ]
     },
     "metadata": {
      "needs_background": "light"
     },
     "output_type": "display_data"
    }
   ],
   "source": [
    "sns.distplot(df.spent)"
   ]
  },
  {
   "cell_type": "code",
   "execution_count": 22,
   "metadata": {},
   "outputs": [
    {
     "data": {
      "text/plain": [
       "<matplotlib.axes._subplots.AxesSubplot at 0x7f89ad2796d0>"
      ]
     },
     "execution_count": 22,
     "metadata": {},
     "output_type": "execute_result"
    },
    {
     "data": {
      "image/png": "[encoded data removed]",
      "text/plain": [
       "<Figure size 432x288 with 1 Axes>"
      ]
     },
     "metadata": {
      "needs_background": "light"
     },
     "output_type": "display_data"
    }
   ],
   "source": [
    "sns.countplot(df.approved_conversion)"
   ]
  },
  {
   "cell_type": "markdown",
   "metadata": {},
   "source": [
    "# Data Analysis"
   ]
  },
  {
   "cell_type": "code",
   "execution_count": 23,
   "metadata": {},
   "outputs": [
    {
     "name": "stdout",
     "output_type": "stream",
     "text": [
      "Campaign wise clicks\n",
      "campaign_id\n",
      "1178    9577\n",
      "916      113\n",
      "936     1984\n",
      "Name: clicks, dtype: int64\n",
      "-------------------------\n",
      "Campaign wise amount spent\n",
      "campaign_id\n",
      "1178    16577.159998\n",
      "916       149.710001\n",
      "936      2893.369999\n",
      "Name: spent, dtype: float64\n",
      "--------------------------\n",
      "Campaign wise total conversions\n",
      "campaign_id\n",
      "1178    1050.0\n",
      "916       58.0\n",
      "936      537.0\n",
      "Name: total_conversion, dtype: float64\n",
      "---------------------------\n",
      "Campaign wise ad count\n",
      "campaign_id\n",
      "1178    243\n",
      "916      54\n",
      "936     464\n",
      "Name: ad_id, dtype: int64\n",
      "===========================\n"
     ]
    }
   ],
   "source": [
    "# cost analysis\n",
    "print('Campaign wise clicks')\n",
    "print((df.groupby(['campaign_id'])).clicks.sum())\n",
    "print('-------------------------')\n",
    "\n",
    "print('Campaign wise amount spent')\n",
    "print((df.groupby(['campaign_id'])).spent.sum())\n",
    "print('--------------------------')\n",
    "\n",
    "\n",
    "print('Campaign wise total conversions')\n",
    "print((df.groupby(['campaign_id'])).total_conversion.sum())\n",
    "print('---------------------------')\n",
    "\n",
    "print('Campaign wise ad count')\n",
    "print((df.groupby(['campaign_id'])).ad_id.count())\n",
    "print('===========================')"
   ]
  },
  {
   "cell_type": "code",
   "execution_count": 24,
   "metadata": {},
   "outputs": [
    {
     "name": "stdout",
     "output_type": "stream",
     "text": [
      "The cost per click of campaign_1178 is 1.7309345304375063\n",
      "The cost per conversion of campaign_1178 is 15.787771426666666\n",
      "The cost per ad in campaign_1178 is 68.2187654238683\n",
      "---------------------------------------------------------------\n",
      "The cost per click of campaign_936 is 1.4583518140120968\n",
      "The cost per conversion of campaign_936 is 5.388026068901303\n",
      "The cost per ad in campaign_936 is 6.23571120474138\n",
      "---------------------------------------------------------------\n",
      "The cost per click of campaign_916 is 1.3248672654867257\n",
      "The cost per conversion of campaign_916 is 2.5812069137931037\n",
      "The cost per ad in campaign_916 is 2.772407425925926\n",
      "---------------------------------------------------------------\n"
     ]
    }
   ],
   "source": [
    "campaign_1178_clicks = 9577\n",
    "campaign_1178_cost = 16577.159998\n",
    "campaign_1178_conv = 1050\n",
    "campaign_1178_adcount = 243\n",
    "campaign_1178_cpc = (campaign_1178_cost/campaign_1178_clicks)\n",
    "campaign_1178_cpco = (campaign_1178_cost/campaign_1178_conv)\n",
    "campaign_1178_cpad = (campaign_1178_cost/campaign_1178_adcount)\n",
    "\n",
    "print('The cost per click of campaign_1178 is '+ str(campaign_1178_cpc))\n",
    "print('The cost per conversion of campaign_1178 is '+ str(campaign_1178_cpco))\n",
    "print('The cost per ad in campaign_1178 is '+ str(campaign_1178_cpad))\n",
    "print('---------------------------------------------------------------')\n",
    "\n",
    "\n",
    "campaign_936_clicks = 1984\n",
    "campaign_936_cost = 2893.369999\n",
    "campaign_936_conv = 537\n",
    "campaign_936_adcount = 464\n",
    "campaign_936_cpc = (campaign_936_cost/campaign_936_clicks)\n",
    "campaign_936_cpco = (campaign_936_cost/campaign_936_conv)\n",
    "campaign_936_cpad = (campaign_936_cost/campaign_936_adcount)\n",
    "\n",
    "print('The cost per click of campaign_936 is '+ str(campaign_936_cpc))\n",
    "print('The cost per conversion of campaign_936 is '+ str(campaign_936_cpco))\n",
    "print('The cost per ad in campaign_936 is '+ str(campaign_936_cpad))\n",
    "print('---------------------------------------------------------------')\n",
    "\n",
    "campaign_916_clicks = 113\n",
    "campaign_916_cost = 149.710001\n",
    "campaign_916_conv = 58\n",
    "campaign_916_adcount = 54\n",
    "campaign_916_cpc = (campaign_916_cost/campaign_916_clicks)\n",
    "campaign_916_cpco = (campaign_916_cost/campaign_916_conv)\n",
    "campaign_916_cpad = (campaign_916_cost/campaign_916_adcount)\n",
    "\n",
    "print('The cost per click of campaign_916 is '+ str(campaign_916_cpc))\n",
    "print('The cost per conversion of campaign_916 is '+ str(campaign_916_cpco))\n",
    "print('The cost per ad in campaign_916 is '+ str(campaign_916_cpad))\n",
    "print('---------------------------------------------------------------')"
   ]
  },
  {
   "cell_type": "markdown",
   "metadata": {},
   "source": [
    "- From the above analysis it is very clear that campaign 916 is the most efficient and profitable campaign. \n",
    "- The cpc and cost per conversion is very low compared other campaigns.\n",
    "- If we scale up the campaign 916 to the budget of campaign 1178 we might drive 5 times more results of campaign 1178"
   ]
  },
  {
   "cell_type": "markdown",
   "metadata": {},
   "source": [
    "Now we can create two dataframes, one for campaign 916 and another one for campaign 1178 and we can analyze them further"
   ]
  },
  {
   "cell_type": "code",
   "execution_count": 25,
   "metadata": {},
   "outputs": [
    {
     "data": {
      "text/html": [
       "<div>\n",
       "<style scoped>\n",
       "    .dataframe tbody tr th:only-of-type {\n",
       "        vertical-align: middle;\n",
       "    }\n",
       "\n",
       "    .dataframe tbody tr th {\n",
       "        vertical-align: top;\n",
       "    }\n",
       "\n",
       "    .dataframe thead th {\n",
       "        text-align: right;\n",
       "    }\n",
       "</style>\n",
       "<table border=\"1\" class=\"dataframe\">\n",
       "  <thead>\n",
       "    <tr style=\"text-align: right;\">\n",
       "      <th></th>\n",
       "      <th>ad_id</th>\n",
       "      <th>campaign_id</th>\n",
       "      <th>age</th>\n",
       "      <th>gender</th>\n",
       "      <th>interest1</th>\n",
       "      <th>interest2</th>\n",
       "      <th>interest3</th>\n",
       "      <th>impressions</th>\n",
       "      <th>clicks</th>\n",
       "      <th>spent</th>\n",
       "      <th>total_conversion</th>\n",
       "      <th>approved_conversion</th>\n",
       "    </tr>\n",
       "  </thead>\n",
       "  <tbody>\n",
       "    <tr>\n",
       "      <th>0</th>\n",
       "      <td>708746</td>\n",
       "      <td>916</td>\n",
       "      <td>30-34</td>\n",
       "      <td>M</td>\n",
       "      <td>15</td>\n",
       "      <td>17</td>\n",
       "      <td>17</td>\n",
       "      <td>7350.0</td>\n",
       "      <td>1</td>\n",
       "      <td>1.43</td>\n",
       "      <td>2.0</td>\n",
       "      <td>1.0</td>\n",
       "    </tr>\n",
       "    <tr>\n",
       "      <th>1</th>\n",
       "      <td>708749</td>\n",
       "      <td>916</td>\n",
       "      <td>30-34</td>\n",
       "      <td>M</td>\n",
       "      <td>16</td>\n",
       "      <td>19</td>\n",
       "      <td>21</td>\n",
       "      <td>17861.0</td>\n",
       "      <td>2</td>\n",
       "      <td>1.82</td>\n",
       "      <td>2.0</td>\n",
       "      <td>0.0</td>\n",
       "    </tr>\n",
       "    <tr>\n",
       "      <th>2</th>\n",
       "      <td>708771</td>\n",
       "      <td>916</td>\n",
       "      <td>30-34</td>\n",
       "      <td>M</td>\n",
       "      <td>20</td>\n",
       "      <td>25</td>\n",
       "      <td>22</td>\n",
       "      <td>693.0</td>\n",
       "      <td>0</td>\n",
       "      <td>0.00</td>\n",
       "      <td>1.0</td>\n",
       "      <td>0.0</td>\n",
       "    </tr>\n",
       "    <tr>\n",
       "      <th>3</th>\n",
       "      <td>708815</td>\n",
       "      <td>916</td>\n",
       "      <td>30-34</td>\n",
       "      <td>M</td>\n",
       "      <td>28</td>\n",
       "      <td>32</td>\n",
       "      <td>32</td>\n",
       "      <td>4259.0</td>\n",
       "      <td>1</td>\n",
       "      <td>1.25</td>\n",
       "      <td>1.0</td>\n",
       "      <td>0.0</td>\n",
       "    </tr>\n",
       "    <tr>\n",
       "      <th>4</th>\n",
       "      <td>708818</td>\n",
       "      <td>916</td>\n",
       "      <td>30-34</td>\n",
       "      <td>M</td>\n",
       "      <td>28</td>\n",
       "      <td>33</td>\n",
       "      <td>32</td>\n",
       "      <td>4133.0</td>\n",
       "      <td>1</td>\n",
       "      <td>1.29</td>\n",
       "      <td>1.0</td>\n",
       "      <td>1.0</td>\n",
       "    </tr>\n",
       "  </tbody>\n",
       "</table>\n",
       "</div>"
      ],
      "text/plain": [
       "    ad_id campaign_id    age gender  interest1  interest2  interest3  \\\n",
       "0  708746         916  30-34      M         15         17         17   \n",
       "1  708749         916  30-34      M         16         19         21   \n",
       "2  708771         916  30-34      M         20         25         22   \n",
       "3  708815         916  30-34      M         28         32         32   \n",
       "4  708818         916  30-34      M         28         33         32   \n",
       "\n",
       "   impressions  clicks  spent  total_conversion  approved_conversion  \n",
       "0       7350.0       1   1.43               2.0                  1.0  \n",
       "1      17861.0       2   1.82               2.0                  0.0  \n",
       "2        693.0       0   0.00               1.0                  0.0  \n",
       "3       4259.0       1   1.25               1.0                  0.0  \n",
       "4       4133.0       1   1.29               1.0                  1.0  "
      ]
     },
     "execution_count": 25,
     "metadata": {},
     "output_type": "execute_result"
    }
   ],
   "source": [
    "dfn = df.query('campaign_id ==\"916\"')\n",
    "dfn.head()"
   ]
  },
  {
   "cell_type": "code",
   "execution_count": 26,
   "metadata": {},
   "outputs": [
    {
     "data": {
      "text/html": [
       "<div>\n",
       "<style scoped>\n",
       "    .dataframe tbody tr th:only-of-type {\n",
       "        vertical-align: middle;\n",
       "    }\n",
       "\n",
       "    .dataframe tbody tr th {\n",
       "        vertical-align: top;\n",
       "    }\n",
       "\n",
       "    .dataframe thead th {\n",
       "        text-align: right;\n",
       "    }\n",
       "</style>\n",
       "<table border=\"1\" class=\"dataframe\">\n",
       "  <thead>\n",
       "    <tr style=\"text-align: right;\">\n",
       "      <th></th>\n",
       "      <th>ad_id</th>\n",
       "      <th>campaign_id</th>\n",
       "      <th>age</th>\n",
       "      <th>gender</th>\n",
       "      <th>interest1</th>\n",
       "      <th>interest2</th>\n",
       "      <th>interest3</th>\n",
       "      <th>impressions</th>\n",
       "      <th>clicks</th>\n",
       "      <th>spent</th>\n",
       "      <th>total_conversion</th>\n",
       "      <th>approved_conversion</th>\n",
       "    </tr>\n",
       "  </thead>\n",
       "  <tbody>\n",
       "    <tr>\n",
       "      <th>518</th>\n",
       "      <td>1121091</td>\n",
       "      <td>1178</td>\n",
       "      <td>30-34</td>\n",
       "      <td>M</td>\n",
       "      <td>10</td>\n",
       "      <td>11</td>\n",
       "      <td>15</td>\n",
       "      <td>1194718.0</td>\n",
       "      <td>141</td>\n",
       "      <td>254.049996</td>\n",
       "      <td>28.0</td>\n",
       "      <td>14.0</td>\n",
       "    </tr>\n",
       "    <tr>\n",
       "      <th>519</th>\n",
       "      <td>1121092</td>\n",
       "      <td>1178</td>\n",
       "      <td>30-34</td>\n",
       "      <td>M</td>\n",
       "      <td>10</td>\n",
       "      <td>12</td>\n",
       "      <td>11</td>\n",
       "      <td>637648.0</td>\n",
       "      <td>67</td>\n",
       "      <td>122.400000</td>\n",
       "      <td>13.0</td>\n",
       "      <td>5.0</td>\n",
       "    </tr>\n",
       "    <tr>\n",
       "      <th>520</th>\n",
       "      <td>1121094</td>\n",
       "      <td>1178</td>\n",
       "      <td>30-34</td>\n",
       "      <td>M</td>\n",
       "      <td>10</td>\n",
       "      <td>16</td>\n",
       "      <td>15</td>\n",
       "      <td>24362.0</td>\n",
       "      <td>0</td>\n",
       "      <td>0.000000</td>\n",
       "      <td>1.0</td>\n",
       "      <td>1.0</td>\n",
       "    </tr>\n",
       "    <tr>\n",
       "      <th>521</th>\n",
       "      <td>1121095</td>\n",
       "      <td>1178</td>\n",
       "      <td>30-34</td>\n",
       "      <td>M</td>\n",
       "      <td>10</td>\n",
       "      <td>16</td>\n",
       "      <td>12</td>\n",
       "      <td>459690.0</td>\n",
       "      <td>50</td>\n",
       "      <td>86.330001</td>\n",
       "      <td>5.0</td>\n",
       "      <td>2.0</td>\n",
       "    </tr>\n",
       "    <tr>\n",
       "      <th>522</th>\n",
       "      <td>1121096</td>\n",
       "      <td>1178</td>\n",
       "      <td>30-34</td>\n",
       "      <td>M</td>\n",
       "      <td>10</td>\n",
       "      <td>11</td>\n",
       "      <td>16</td>\n",
       "      <td>750060.0</td>\n",
       "      <td>86</td>\n",
       "      <td>161.909999</td>\n",
       "      <td>11.0</td>\n",
       "      <td>2.0</td>\n",
       "    </tr>\n",
       "  </tbody>\n",
       "</table>\n",
       "</div>"
      ],
      "text/plain": [
       "       ad_id campaign_id    age gender  interest1  interest2  interest3  \\\n",
       "518  1121091        1178  30-34      M         10         11         15   \n",
       "519  1121092        1178  30-34      M         10         12         11   \n",
       "520  1121094        1178  30-34      M         10         16         15   \n",
       "521  1121095        1178  30-34      M         10         16         12   \n",
       "522  1121096        1178  30-34      M         10         11         16   \n",
       "\n",
       "     impressions  clicks       spent  total_conversion  approved_conversion  \n",
       "518    1194718.0     141  254.049996              28.0                 14.0  \n",
       "519     637648.0      67  122.400000              13.0                  5.0  \n",
       "520      24362.0       0    0.000000               1.0                  1.0  \n",
       "521     459690.0      50   86.330001               5.0                  2.0  \n",
       "522     750060.0      86  161.909999              11.0                  2.0  "
      ]
     },
     "execution_count": 26,
     "metadata": {},
     "output_type": "execute_result"
    }
   ],
   "source": [
    "dfm = df.query('campaign_id ==\"1178\"')\n",
    "dfm.head()"
   ]
  },
  {
   "cell_type": "code",
   "execution_count": 27,
   "metadata": {},
   "outputs": [],
   "source": [
    "# gender analysis"
   ]
  },
  {
   "cell_type": "code",
   "execution_count": 28,
   "metadata": {},
   "outputs": [
    {
     "name": "stdout",
     "output_type": "stream",
     "text": [
      "Gender based analysis\n",
      "gender\n",
      "F     322.0\n",
      "M    1323.0\n",
      "Name: total_conversion, dtype: float64\n",
      "gender\n",
      "F    275\n",
      "M    486\n",
      "Name: ad_id, dtype: int64\n",
      "gender\n",
      "F    20.0\n",
      "M    38.0\n",
      "Name: total_conversion, dtype: float64\n",
      "gender\n",
      "F    19\n",
      "M    35\n",
      "Name: ad_id, dtype: int64\n",
      "gender\n",
      "M    1050.0\n",
      "Name: total_conversion, dtype: float64\n",
      "gender\n",
      "M    243\n",
      "Name: ad_id, dtype: int64\n"
     ]
    }
   ],
   "source": [
    "print('Gender based analysis')\n",
    "print((df.groupby(['gender'])).total_conversion.sum())\n",
    "print((df.groupby(['gender'])).ad_id.count())\n",
    "print((dfn.groupby(['gender'])).total_conversion.sum())\n",
    "print((dfn.groupby(['gender'])).ad_id.count())\n",
    "print((dfm.groupby(['gender'])).total_conversion.sum())\n",
    "print((dfm.groupby(['gender'])).ad_id.count())"
   ]
  },
  {
   "cell_type": "markdown",
   "metadata": {},
   "source": [
    "- Though we can get more conversion by targeting Males alone, the cost per conversion is high (inferred from campaign 1178 analysis) and the number of ads.\n",
    "- If there was to be more ads in campaign 916 the conversions would have been much higher\n",
    "- From the above analysis we can conclude that we need to target both male and female. "
   ]
  },
  {
   "cell_type": "code",
   "execution_count": 29,
   "metadata": {},
   "outputs": [],
   "source": [
    "#age analysis"
   ]
  },
  {
   "cell_type": "code",
   "execution_count": 30,
   "metadata": {},
   "outputs": [
    {
     "name": "stdout",
     "output_type": "stream",
     "text": [
      "age\n",
      "30-34    890.0\n",
      "35-39    357.0\n",
      "40-44    235.0\n",
      "45-49    163.0\n",
      "Name: total_conversion, dtype: float64\n",
      "age\n",
      "30-34    327\n",
      "35-39    180\n",
      "40-44    139\n",
      "45-49    115\n",
      "Name: ad_id, dtype: int64\n",
      "age\n",
      "30-34    31.0\n",
      "35-39    13.0\n",
      "40-44     7.0\n",
      "45-49     7.0\n",
      "Name: total_conversion, dtype: float64\n",
      "age\n",
      "30-34    29\n",
      "35-39    12\n",
      "40-44     6\n",
      "45-49     7\n",
      "Name: ad_id, dtype: int64\n",
      "age\n",
      "30-34    632.0\n",
      "35-39    248.0\n",
      "40-44    145.0\n",
      "45-49     25.0\n",
      "Name: total_conversion, dtype: float64\n",
      "age\n",
      "30-34    102\n",
      "35-39     79\n",
      "40-44     58\n",
      "45-49      4\n",
      "Name: ad_id, dtype: int64\n"
     ]
    }
   ],
   "source": [
    "print((df.groupby(['age'])).total_conversion.sum())\n",
    "print((df.groupby(['age'])).ad_id.count())\n",
    "print((dfn.groupby(['age'])).total_conversion.sum())\n",
    "print((dfn.groupby(['age'])).ad_id.count())\n",
    "print((dfm.groupby(['age'])).total_conversion.sum())\n",
    "print((dfm.groupby(['age'])).ad_id.count())"
   ]
  },
  {
   "cell_type": "markdown",
   "metadata": {},
   "source": [
    "- Though we can get more conversion by targeting 30-34 and 35-39 alone, the cost per conversion is high (inferred from campaign 1178 analysis).\n",
    "- The number of ads are also different. If there was to be more ads in campaign 916 the conversions would have been much higher\n",
    "- From the above analysis we can conclude that we need to target all four age ranges "
   ]
  },
  {
   "cell_type": "code",
   "execution_count": 31,
   "metadata": {},
   "outputs": [],
   "source": [
    "# Interests analysis"
   ]
  },
  {
   "cell_type": "code",
   "execution_count": 32,
   "metadata": {},
   "outputs": [
    {
     "data": {
      "text/plain": [
       "interest1\n",
       "7      2.0\n",
       "10     2.0\n",
       "15    11.0\n",
       "16    18.0\n",
       "18     1.0\n",
       "19     1.0\n",
       "20     3.0\n",
       "21     1.0\n",
       "24     1.0\n",
       "25     1.0\n",
       "27     3.0\n",
       "28     4.0\n",
       "29     3.0\n",
       "30     1.0\n",
       "31     2.0\n",
       "32     1.0\n",
       "63     2.0\n",
       "65     1.0\n",
       "Name: total_conversion, dtype: float64"
      ]
     },
     "execution_count": 32,
     "metadata": {},
     "output_type": "execute_result"
    }
   ],
   "source": [
    "(dfn.groupby(['interest1'])).total_conversion.sum()"
   ]
  },
  {
   "cell_type": "code",
   "execution_count": 33,
   "metadata": {},
   "outputs": [
    {
     "data": {
      "text/plain": [
       "interest2\n",
       "8      1.0\n",
       "12     1.0\n",
       "13     1.0\n",
       "16     3.0\n",
       "17     3.0\n",
       "18     4.0\n",
       "19    10.0\n",
       "20     4.0\n",
       "21     3.0\n",
       "22     3.0\n",
       "24     1.0\n",
       "25     2.0\n",
       "26     4.0\n",
       "29     1.0\n",
       "30     2.0\n",
       "31     2.0\n",
       "32     2.0\n",
       "33     4.0\n",
       "34     2.0\n",
       "37     2.0\n",
       "64     1.0\n",
       "67     1.0\n",
       "70     1.0\n",
       "Name: total_conversion, dtype: float64"
      ]
     },
     "execution_count": 33,
     "metadata": {},
     "output_type": "execute_result"
    }
   ],
   "source": [
    "(dfn.groupby(['interest2'])).total_conversion.sum()"
   ]
  },
  {
   "cell_type": "code",
   "execution_count": 34,
   "metadata": {},
   "outputs": [
    {
     "data": {
      "text/plain": [
       "interest3\n",
       "8      1.0\n",
       "10     1.0\n",
       "11     2.0\n",
       "16     1.0\n",
       "17     6.0\n",
       "18     2.0\n",
       "19     2.0\n",
       "20    10.0\n",
       "21     4.0\n",
       "22     6.0\n",
       "23     3.0\n",
       "24     1.0\n",
       "26     1.0\n",
       "27     1.0\n",
       "29     1.0\n",
       "30     1.0\n",
       "31     4.0\n",
       "32     5.0\n",
       "33     1.0\n",
       "34     1.0\n",
       "38     1.0\n",
       "65     1.0\n",
       "68     2.0\n",
       "Name: total_conversion, dtype: float64"
      ]
     },
     "execution_count": 34,
     "metadata": {},
     "output_type": "execute_result"
    }
   ],
   "source": [
    "(dfn.groupby(['interest3'])).total_conversion.sum()"
   ]
  },
  {
   "cell_type": "code",
   "execution_count": 35,
   "metadata": {},
   "outputs": [
    {
     "data": {
      "text/plain": [
       "interest1\n",
       "2      25.0\n",
       "7      38.0\n",
       "10    128.0\n",
       "15    103.0\n",
       "16    131.0\n",
       "18     27.0\n",
       "19     39.0\n",
       "20     66.0\n",
       "21     17.0\n",
       "22     23.0\n",
       "23     15.0\n",
       "24     14.0\n",
       "25     38.0\n",
       "26     11.0\n",
       "27     55.0\n",
       "28     71.0\n",
       "29    113.0\n",
       "30     20.0\n",
       "31      8.0\n",
       "32     26.0\n",
       "36     17.0\n",
       "63     19.0\n",
       "64     21.0\n",
       "65     15.0\n",
       "66     10.0\n",
       "Name: total_conversion, dtype: float64"
      ]
     },
     "execution_count": 35,
     "metadata": {},
     "output_type": "execute_result"
    }
   ],
   "source": [
    "(dfm.groupby(['interest1'])).total_conversion.sum()"
   ]
  },
  {
   "cell_type": "code",
   "execution_count": 36,
   "metadata": {},
   "outputs": [
    {
     "data": {
      "text/plain": [
       "interest2\n",
       "3       2.0\n",
       "4       8.0\n",
       "5       7.0\n",
       "6       1.0\n",
       "7       2.0\n",
       "8       5.0\n",
       "9       5.0\n",
       "10      6.0\n",
       "11     48.0\n",
       "12     17.0\n",
       "13     41.0\n",
       "14      5.0\n",
       "15     12.0\n",
       "16     39.0\n",
       "17     24.0\n",
       "18     37.0\n",
       "19      8.0\n",
       "20    152.0\n",
       "21     46.0\n",
       "22     20.0\n",
       "23     26.0\n",
       "24     20.0\n",
       "25     17.0\n",
       "26     47.0\n",
       "27     22.0\n",
       "28     51.0\n",
       "29     62.0\n",
       "30     22.0\n",
       "31     31.0\n",
       "32     42.0\n",
       "33     40.0\n",
       "34     49.0\n",
       "35     34.0\n",
       "36      6.0\n",
       "37     13.0\n",
       "38      7.0\n",
       "39      1.0\n",
       "40      4.0\n",
       "41      5.0\n",
       "42      1.0\n",
       "64      6.0\n",
       "65      7.0\n",
       "66     15.0\n",
       "67     10.0\n",
       "68      8.0\n",
       "69      6.0\n",
       "70      8.0\n",
       "71      4.0\n",
       "72      1.0\n",
       "Name: total_conversion, dtype: float64"
      ]
     },
     "execution_count": 36,
     "metadata": {},
     "output_type": "execute_result"
    }
   ],
   "source": [
    "(dfm.groupby(['interest2'])).total_conversion.sum()"
   ]
  },
  {
   "cell_type": "code",
   "execution_count": 37,
   "metadata": {},
   "outputs": [
    {
     "data": {
      "text/plain": [
       "interest3\n",
       "3      3.0\n",
       "4      1.0\n",
       "5      8.0\n",
       "6      2.0\n",
       "7     11.0\n",
       "9      2.0\n",
       "10    26.0\n",
       "11    25.0\n",
       "12    23.0\n",
       "13    13.0\n",
       "14     3.0\n",
       "15    41.0\n",
       "16    35.0\n",
       "17    71.0\n",
       "18    38.0\n",
       "19    12.0\n",
       "20    51.0\n",
       "21    47.0\n",
       "22    67.0\n",
       "23    16.0\n",
       "24    57.0\n",
       "25    28.0\n",
       "26    14.0\n",
       "27    23.0\n",
       "28    10.0\n",
       "29    62.0\n",
       "30    25.0\n",
       "31    70.0\n",
       "32    31.0\n",
       "33    88.0\n",
       "34    28.0\n",
       "35    25.0\n",
       "36     7.0\n",
       "37     9.0\n",
       "38     4.0\n",
       "39     2.0\n",
       "40     1.0\n",
       "41     5.0\n",
       "42     1.0\n",
       "64     5.0\n",
       "65     7.0\n",
       "66     3.0\n",
       "67    15.0\n",
       "68     7.0\n",
       "69    10.0\n",
       "70    12.0\n",
       "71     5.0\n",
       "72     1.0\n",
       "Name: total_conversion, dtype: float64"
      ]
     },
     "execution_count": 37,
     "metadata": {},
     "output_type": "execute_result"
    }
   ],
   "source": [
    "(dfm.groupby(['interest3'])).total_conversion.sum()"
   ]
  },
  {
   "cell_type": "markdown",
   "metadata": {},
   "source": [
    "# Final Report  "
   ]
  },
  {
   "cell_type": "markdown",
   "metadata": {},
   "source": [
    "from the above analysis,\n",
    "- The ideal campaign for the most efficient results can be created with the following metrics :\n",
    "    - Gender : M | F (Both)\n",
    "    - Age : 30 - 49 (Including all four age bands)\n",
    "    - Interest1 : 16\n",
    "    - Interest2 : 19\n",
    "    - Interest3 : 20 \n",
    "    \n",
    "- We can try out different campaigns by slightly adjusting the interests. The list of possible interests are :\n",
    "    - Interest1 : 10 , 15 , 29\n",
    "    - Interest2 : 20\n",
    "    - Interest3 : 17 , 31 , 33\n",
    " \n",
    "we can try differnt combinations of interests using the above lists and drive more efficient results "
   ]
  },
  {
   "cell_type": "code",
   "execution_count": null,
   "metadata": {},
   "outputs": [],
   "source": []
  }
 ],
 "metadata": {
  "kernelspec": {
   "display_name": "Python 3",
   "language": "python",
   "name": "python3"
  },
  "language_info": {
   "codemirror_mode": {
    "name": "ipython",
    "version": 3
   },
   "file_extension": ".py",
   "mimetype": "text/x-python",
   "name": "python",
   "nbconvert_exporter": "python",
   "pygments_lexer": "ipython3",
   "version": "3.7.4"
  }
 },
 "nbformat": 4,
 "nbformat_minor": 4
}
